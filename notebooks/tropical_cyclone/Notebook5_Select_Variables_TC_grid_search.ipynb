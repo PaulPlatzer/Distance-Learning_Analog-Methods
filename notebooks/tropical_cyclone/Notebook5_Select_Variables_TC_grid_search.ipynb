{
 "cells": [
  {
   "cell_type": "markdown",
   "id": "ae2f5deb-46a8-4d65-a499-c87040b318ec",
   "metadata": {},
   "source": [
    "# Select variables : forecasting of tropical cylone data at 1-day horizon\n",
    "\n",
    "This notebook accompanies the following publication:\n",
    "Paul Platzer, Arthur Avenas, Bertrand Chapron, Lucas Drumetz, Alexis Mouche, Léo Vinour. Distance Learning for Analog Methods. 2024. [⟨hal-04841334⟩](https://hal.science/hal-04841334)\n",
    "\n",
    "It is used to run grid-search optimization algorithms for numerical experiments with IBTrACS tropical cyclone data, at 1-day forecast horizon. The aim is to select the most relevant variables for this forecast and for this particular dataset."
   ]
  },
  {
   "cell_type": "code",
   "execution_count": 1,
   "id": "61c62aac-23c0-471c-b2f8-66dd6947fbb7",
   "metadata": {},
   "outputs": [
    {
     "name": "stderr",
     "output_type": "stream",
     "text": [
      "/home/pplatzer/.local/lib/python3.10/site-packages/tqdm_joblib/__init__.py:4: TqdmExperimentalWarning: Using `tqdm.autonotebook.tqdm` in notebook mode. Use `tqdm.tqdm` instead to force console mode (e.g. in jupyter console)\n",
      "  from tqdm.autonotebook import tqdm\n"
     ]
    }
   ],
   "source": [
    "import numpy as np\n",
    "import pandas\n",
    "import matplotlib.pyplot as plt\n",
    "import matplotlib\n",
    "from tqdm.notebook import tqdm\n",
    "from tqdm_joblib import tqdm_joblib\n",
    "from sklearn.neighbors import NearestNeighbors\n",
    "import os\n",
    "os.environ[\"OMP_NUM_THREADS\"] = \"16\"\n",
    "os.environ[\"OPENBLAS_NUM_THREADS\"] = \"16\"\n",
    "os.environ[\"MKL_NUM_THREADS\"] = \"16\"\n",
    "os.environ[\"NUMEXPR_NUM_THREADS\"] = \"16\"\n",
    "import sys\n",
    "sys.path.append('../../functions/.')\n",
    "from analogs import apply_transform, find_analogues, compute_weights, compute_diffs, compute_mae_mad, compute_error\n",
    "from grid_search import generate_weight_combinations, process_variable, grid_search_CRPS_TC\n",
    "from TC_utils import M, Rmax_from_M, correct_vmx_ibt, Rmxa23"
   ]
  },
  {
   "cell_type": "code",
   "execution_count": 2,
   "id": "3996f4b4-ff83-49c8-8ae5-33d8a96b58ad",
   "metadata": {},
   "outputs": [],
   "source": [
    "matplotlib.rcParams.update({'font.size': 14})"
   ]
  },
  {
   "cell_type": "code",
   "execution_count": 3,
   "id": "23313c0d-f233-467a-a505-f36b85cb18e7",
   "metadata": {},
   "outputs": [],
   "source": [
    "cols = ['#377eb8', '#ff7f00', '#4daf4a',\n",
    "                  '#f781bf', '#a65628', '#984ea3',\n",
    "                  '#999999', '#e41a1c', '#dede00']"
   ]
  },
  {
   "cell_type": "code",
   "execution_count": 4,
   "id": "c8c478b0-c69c-419e-962b-3978f39c7156",
   "metadata": {},
   "outputs": [],
   "source": [
    "data_folder = '../../data/tropical_cyclone/'\n",
    "output_folder = '../../output/tropical_cyclone/'"
   ]
  },
  {
   "cell_type": "markdown",
   "id": "a1db3468-0d49-4844-812d-ea787fe2edeb",
   "metadata": {},
   "source": [
    "# Parameters for loading IBTrACS dataset"
   ]
  },
  {
   "cell_type": "code",
   "execution_count": 5,
   "id": "c5a3ab52-cc20-4b66-baea-168eee4bc7fb",
   "metadata": {},
   "outputs": [],
   "source": [
    "files = os.listdir(data_folder)\n",
    "\n",
    "# Input variables\n",
    "var_names = ['Vmax', 'Rmax_IBT', 'R34', 'fcor', 'u_trans', 'v_trans']\n",
    "\n",
    "# Output variable to forecast: derivative of Vmax\n",
    "var_y = ['Vmax']\n",
    "dydt = True\n",
    "ind_var_y = []\n",
    "for name_tmp in var_y:\n",
    "    ind_var_y.append(np.argwhere(np.array(var_names)==name_tmp)[0][0])\n",
    "\n",
    "# Utils to compute Rmax estimate from Avenas et al. (2023)\n",
    "var_A23 = ['fcor', 'Vmax', 'R34', ]\n",
    "ind_A23 = []\n",
    "for name_tmp in var_A23:\n",
    "    ind_A23.append(np.argwhere(np.array(var_names)==name_tmp)[0][0])\n",
    "\n",
    "# Add names of auxilliary variables (Rmax_A23 and time-derivatives)\n",
    "var_names_all = var_names.copy()\n",
    "var_names_all.append('Rmax_A23')\n",
    "for name in var_names_all.copy():\n",
    "    var_names_all.append('d'+name+'/dt')\n",
    "\n",
    "# Add name of time since the threshold of 18m/s is crossed for Vmax\n",
    "var_names_all.append('t_18')"
   ]
  },
  {
   "cell_type": "markdown",
   "id": "0fb15f6f-8e8b-4b93-8e37-2ae19a75bfb3",
   "metadata": {},
   "source": [
    "# Loading and preprocessing dataset"
   ]
  },
  {
   "cell_type": "code",
   "execution_count": 6,
   "id": "1c423f65-71e7-4abd-94e1-10086b949178",
   "metadata": {},
   "outputs": [],
   "source": [
    "## Set forecast time-horizon (multiple of 3hours)\n",
    "\n",
    "h = 8\n",
    "\n",
    "\n",
    "## Load dataset\n",
    "\n",
    "IBT = np.array(pandas.read_csv(data_folder + files[0], usecols = var_names))\n",
    "IBT = np.concatenate( [ IBT , \n",
    "         Rmxa23(IBT[:,ind_A23[0]] , IBT[:,ind_A23[1]] , IBT[:,ind_A23[2]]).reshape(-1,1) ,\n",
    "                      ],  axis=1)\n",
    "IBT = np.concatenate( ( IBT[1:] , IBT[1:] - IBT[:-1] ) , axis=1 )\n",
    "IBT = np.concatenate( [ IBT ,\n",
    "           3*np.arange(len(IBT)).reshape(-1,1) ],  axis=1)\n",
    "train_x = IBT[0:-h,:]\n",
    "train_y = IBT[h:,ind_var_y] - IBT[0:-h,ind_var_y] \n",
    "ID = np.array([0]*len(IBT[0:-h,:]))\n",
    "\n",
    "\n",
    "for i in np.arange(1, len(files)):\n",
    "    IBT = np.array(pandas.read_csv(data_folder + files[i], usecols = var_names))\n",
    "    IBT = np.concatenate( [ IBT , \n",
    "             Rmxa23(IBT[:,ind_A23[0]] , IBT[:,ind_A23[1]] , IBT[:,ind_A23[2]]).reshape(-1,1) ,\n",
    "                          ],  axis=1)\n",
    "    IBT = np.concatenate( ( IBT[1:] , IBT[1:] - IBT[:-1] ) , axis=1 )\n",
    "    IBT = np.concatenate( [ IBT ,\n",
    "           3*np.arange(len(IBT)).reshape(-1,1) ],  axis=1)\n",
    "    train_x = np.concatenate([train_x, IBT[0:-h,:]])\n",
    "    train_y = np.concatenate([train_y, IBT[h:,ind_var_y] - IBT[0:-h,ind_var_y]])\n",
    "    ID = np.concatenate([ID, np.array([i]*len(IBT[0:-h,:]))])\n",
    "\n",
    "# center and reduce\n",
    "mean_IBTrACS = np.mean(train_x, axis=0)\n",
    "std_IBTrACS = np.std(train_x, axis=0)\n",
    "mean_y = np.mean(train_y, axis=0)\n",
    "std_y = np.std(train_y, axis=0)\n",
    "for j in range(train_x.shape[1]):\n",
    "    train_x[:,j] = (train_x[:,j] - mean_IBTrACS[j]) / std_IBTrACS[j]\n",
    "for j in range(train_y.shape[1]):\n",
    "    train_y[:,j] = (train_y[:,j] - mean_y[j]) / std_y[j]    "
   ]
  },
  {
   "cell_type": "markdown",
   "id": "60baeba3-30c8-495d-8ea4-2accb54703b5",
   "metadata": {},
   "source": [
    "# Optimization: loop over permutations and regularization parameter"
   ]
  },
  {
   "cell_type": "code",
   "execution_count": 7,
   "id": "a778a9f9-1b7a-436c-a593-159b128033ba",
   "metadata": {
    "scrolled": true
   },
   "outputs": [
    {
     "data": {
      "application/vnd.jupyter.widget-view+json": {
       "model_id": "5c0ef41755364de2a2ea18e63d5019bd",
       "version_major": 2,
       "version_minor": 0
      },
      "text/plain": [
       "  0%|          | 0/7 [00:00<?, ?it/s]"
      ]
     },
     "metadata": {},
     "output_type": "display_data"
    },
    {
     "name": "stdout",
     "output_type": "stream",
     "text": [
      "No. of vars selected = 1/15\n"
     ]
    },
    {
     "data": {
      "application/vnd.jupyter.widget-view+json": {
       "model_id": "67c6106d44c34259b765581a3890f5b2",
       "version_major": 2,
       "version_minor": 0
      },
      "text/plain": [
       "Processing Variables:   0%|          | 0/15 [00:00<?, ?it/s]"
      ]
     },
     "metadata": {},
     "output_type": "display_data"
    },
    {
     "data": {
      "application/vnd.jupyter.widget-view+json": {
       "model_id": "67d200ab7fab4d86b52914eff1a88329",
       "version_major": 2,
       "version_minor": 0
      },
      "text/plain": [
       "  0%|          | 0/15 [00:00<?, ?it/s]"
      ]
     },
     "metadata": {},
     "output_type": "display_data"
    },
    {
     "name": "stdout",
     "output_type": "stream",
     "text": [
      "No. of vars selected = 2/15\n"
     ]
    },
    {
     "data": {
      "application/vnd.jupyter.widget-view+json": {
       "model_id": "dc3c1a0f821b409eb63eaed8c311bba4",
       "version_major": 2,
       "version_minor": 0
      },
      "text/plain": [
       "Processing Variables:   0%|          | 0/14 [00:00<?, ?it/s]"
      ]
     },
     "metadata": {},
     "output_type": "display_data"
    },
    {
     "data": {
      "application/vnd.jupyter.widget-view+json": {
       "model_id": "b2691a899b1a4bef8fd8bddd73050ae3",
       "version_major": 2,
       "version_minor": 0
      },
      "text/plain": [
       "  0%|          | 0/14 [00:00<?, ?it/s]"
      ]
     },
     "metadata": {},
     "output_type": "display_data"
    },
    {
     "name": "stdout",
     "output_type": "stream",
     "text": [
      "No. of vars selected = 3/15\n"
     ]
    },
    {
     "data": {
      "application/vnd.jupyter.widget-view+json": {
       "model_id": "c389c01cb26148169e70655a97bea948",
       "version_major": 2,
       "version_minor": 0
      },
      "text/plain": [
       "Processing Variables:   0%|          | 0/13 [00:00<?, ?it/s]"
      ]
     },
     "metadata": {},
     "output_type": "display_data"
    },
    {
     "data": {
      "application/vnd.jupyter.widget-view+json": {
       "model_id": "d73d65fd59fa457db438e7a9049e51b4",
       "version_major": 2,
       "version_minor": 0
      },
      "text/plain": [
       "  0%|          | 0/13 [00:00<?, ?it/s]"
      ]
     },
     "metadata": {},
     "output_type": "display_data"
    },
    {
     "name": "stdout",
     "output_type": "stream",
     "text": [
      "No. of vars selected = 1/15\n"
     ]
    },
    {
     "data": {
      "application/vnd.jupyter.widget-view+json": {
       "model_id": "55744c90bd1844d38060beeebe80536c",
       "version_major": 2,
       "version_minor": 0
      },
      "text/plain": [
       "Processing Variables:   0%|          | 0/15 [00:00<?, ?it/s]"
      ]
     },
     "metadata": {},
     "output_type": "display_data"
    },
    {
     "data": {
      "application/vnd.jupyter.widget-view+json": {
       "model_id": "6a4b989ea5b647d6b7bf175e2f0e880c",
       "version_major": 2,
       "version_minor": 0
      },
      "text/plain": [
       "  0%|          | 0/15 [00:00<?, ?it/s]"
      ]
     },
     "metadata": {},
     "output_type": "display_data"
    },
    {
     "name": "stdout",
     "output_type": "stream",
     "text": [
      "No. of vars selected = 2/15\n"
     ]
    },
    {
     "data": {
      "application/vnd.jupyter.widget-view+json": {
       "model_id": "3d06028fc57e49d28b8a8f2b256ffbe5",
       "version_major": 2,
       "version_minor": 0
      },
      "text/plain": [
       "Processing Variables:   0%|          | 0/14 [00:00<?, ?it/s]"
      ]
     },
     "metadata": {},
     "output_type": "display_data"
    },
    {
     "data": {
      "application/vnd.jupyter.widget-view+json": {
       "model_id": "98b2babf2fe84579816b463e8a5d80cb",
       "version_major": 2,
       "version_minor": 0
      },
      "text/plain": [
       "  0%|          | 0/14 [00:00<?, ?it/s]"
      ]
     },
     "metadata": {},
     "output_type": "display_data"
    },
    {
     "name": "stdout",
     "output_type": "stream",
     "text": [
      "No. of vars selected = 3/15\n"
     ]
    },
    {
     "data": {
      "application/vnd.jupyter.widget-view+json": {
       "model_id": "ff1ca0eb336647398853fc2fb321d8c8",
       "version_major": 2,
       "version_minor": 0
      },
      "text/plain": [
       "Processing Variables:   0%|          | 0/13 [00:00<?, ?it/s]"
      ]
     },
     "metadata": {},
     "output_type": "display_data"
    },
    {
     "data": {
      "application/vnd.jupyter.widget-view+json": {
       "model_id": "0004b67330974d3a85f1a54533ee8835",
       "version_major": 2,
       "version_minor": 0
      },
      "text/plain": [
       "  0%|          | 0/13 [00:00<?, ?it/s]"
      ]
     },
     "metadata": {},
     "output_type": "display_data"
    },
    {
     "name": "stdout",
     "output_type": "stream",
     "text": [
      "No. of vars selected = 1/15\n"
     ]
    },
    {
     "data": {
      "application/vnd.jupyter.widget-view+json": {
       "model_id": "0dea0a80e61b478fb10eff1bb932acd7",
       "version_major": 2,
       "version_minor": 0
      },
      "text/plain": [
       "Processing Variables:   0%|          | 0/15 [00:00<?, ?it/s]"
      ]
     },
     "metadata": {},
     "output_type": "display_data"
    },
    {
     "data": {
      "application/vnd.jupyter.widget-view+json": {
       "model_id": "825a5b24de8d418f8770222960263d44",
       "version_major": 2,
       "version_minor": 0
      },
      "text/plain": [
       "  0%|          | 0/15 [00:00<?, ?it/s]"
      ]
     },
     "metadata": {},
     "output_type": "display_data"
    },
    {
     "name": "stdout",
     "output_type": "stream",
     "text": [
      "No. of vars selected = 2/15\n"
     ]
    },
    {
     "data": {
      "application/vnd.jupyter.widget-view+json": {
       "model_id": "35882f62a2534b17b15c120aeaf9840b",
       "version_major": 2,
       "version_minor": 0
      },
      "text/plain": [
       "Processing Variables:   0%|          | 0/14 [00:00<?, ?it/s]"
      ]
     },
     "metadata": {},
     "output_type": "display_data"
    },
    {
     "data": {
      "application/vnd.jupyter.widget-view+json": {
       "model_id": "e1ffe2fac4e245d7bb81bac26f36b84f",
       "version_major": 2,
       "version_minor": 0
      },
      "text/plain": [
       "  0%|          | 0/14 [00:00<?, ?it/s]"
      ]
     },
     "metadata": {},
     "output_type": "display_data"
    },
    {
     "name": "stdout",
     "output_type": "stream",
     "text": [
      "No. of vars selected = 3/15\n"
     ]
    },
    {
     "data": {
      "application/vnd.jupyter.widget-view+json": {
       "model_id": "9466d68e337047ccb36dda8c4de547c7",
       "version_major": 2,
       "version_minor": 0
      },
      "text/plain": [
       "Processing Variables:   0%|          | 0/13 [00:00<?, ?it/s]"
      ]
     },
     "metadata": {},
     "output_type": "display_data"
    },
    {
     "data": {
      "application/vnd.jupyter.widget-view+json": {
       "model_id": "096e14177dc14b80883f283180e6def9",
       "version_major": 2,
       "version_minor": 0
      },
      "text/plain": [
       "  0%|          | 0/13 [00:00<?, ?it/s]"
      ]
     },
     "metadata": {},
     "output_type": "display_data"
    },
    {
     "name": "stdout",
     "output_type": "stream",
     "text": [
      "No. of vars selected = 1/15\n"
     ]
    },
    {
     "data": {
      "application/vnd.jupyter.widget-view+json": {
       "model_id": "dddd62883e0148b293b8c7b7c3dd3510",
       "version_major": 2,
       "version_minor": 0
      },
      "text/plain": [
       "Processing Variables:   0%|          | 0/15 [00:00<?, ?it/s]"
      ]
     },
     "metadata": {},
     "output_type": "display_data"
    },
    {
     "data": {
      "application/vnd.jupyter.widget-view+json": {
       "model_id": "a8954bc036f64ef486064ddf675d518a",
       "version_major": 2,
       "version_minor": 0
      },
      "text/plain": [
       "  0%|          | 0/15 [00:00<?, ?it/s]"
      ]
     },
     "metadata": {},
     "output_type": "display_data"
    },
    {
     "name": "stdout",
     "output_type": "stream",
     "text": [
      "No. of vars selected = 2/15\n"
     ]
    },
    {
     "data": {
      "application/vnd.jupyter.widget-view+json": {
       "model_id": "04723a90b6c240b291a15174a3a1dcb9",
       "version_major": 2,
       "version_minor": 0
      },
      "text/plain": [
       "Processing Variables:   0%|          | 0/14 [00:00<?, ?it/s]"
      ]
     },
     "metadata": {},
     "output_type": "display_data"
    },
    {
     "data": {
      "application/vnd.jupyter.widget-view+json": {
       "model_id": "0873ce47fac84a09935c989e7f0bcb93",
       "version_major": 2,
       "version_minor": 0
      },
      "text/plain": [
       "  0%|          | 0/14 [00:00<?, ?it/s]"
      ]
     },
     "metadata": {},
     "output_type": "display_data"
    },
    {
     "name": "stdout",
     "output_type": "stream",
     "text": [
      "No. of vars selected = 3/15\n"
     ]
    },
    {
     "data": {
      "application/vnd.jupyter.widget-view+json": {
       "model_id": "c982065a1b2d41eb923f31c3d42a65af",
       "version_major": 2,
       "version_minor": 0
      },
      "text/plain": [
       "Processing Variables:   0%|          | 0/13 [00:00<?, ?it/s]"
      ]
     },
     "metadata": {},
     "output_type": "display_data"
    },
    {
     "data": {
      "application/vnd.jupyter.widget-view+json": {
       "model_id": "fbb40ab31b804ac0bd6fd3880d1ceff6",
       "version_major": 2,
       "version_minor": 0
      },
      "text/plain": [
       "  0%|          | 0/13 [00:00<?, ?it/s]"
      ]
     },
     "metadata": {},
     "output_type": "display_data"
    },
    {
     "name": "stdout",
     "output_type": "stream",
     "text": [
      "No. of vars selected = 1/15\n"
     ]
    },
    {
     "data": {
      "application/vnd.jupyter.widget-view+json": {
       "model_id": "a5337b82d02f439fb67cea5fec34eae4",
       "version_major": 2,
       "version_minor": 0
      },
      "text/plain": [
       "Processing Variables:   0%|          | 0/15 [00:00<?, ?it/s]"
      ]
     },
     "metadata": {},
     "output_type": "display_data"
    },
    {
     "data": {
      "application/vnd.jupyter.widget-view+json": {
       "model_id": "1bd3facad49b4d09ac5e4a38cee77333",
       "version_major": 2,
       "version_minor": 0
      },
      "text/plain": [
       "  0%|          | 0/15 [00:00<?, ?it/s]"
      ]
     },
     "metadata": {},
     "output_type": "display_data"
    },
    {
     "name": "stdout",
     "output_type": "stream",
     "text": [
      "No. of vars selected = 2/15\n"
     ]
    },
    {
     "data": {
      "application/vnd.jupyter.widget-view+json": {
       "model_id": "289bf3009f8543e093df8f1ab04443ff",
       "version_major": 2,
       "version_minor": 0
      },
      "text/plain": [
       "Processing Variables:   0%|          | 0/14 [00:00<?, ?it/s]"
      ]
     },
     "metadata": {},
     "output_type": "display_data"
    },
    {
     "data": {
      "application/vnd.jupyter.widget-view+json": {
       "model_id": "3435cead20474770827626b19cca54a4",
       "version_major": 2,
       "version_minor": 0
      },
      "text/plain": [
       "  0%|          | 0/14 [00:00<?, ?it/s]"
      ]
     },
     "metadata": {},
     "output_type": "display_data"
    },
    {
     "name": "stdout",
     "output_type": "stream",
     "text": [
      "No. of vars selected = 3/15\n"
     ]
    },
    {
     "data": {
      "application/vnd.jupyter.widget-view+json": {
       "model_id": "a85fb44e93904ba0ae6e71ed830c4b65",
       "version_major": 2,
       "version_minor": 0
      },
      "text/plain": [
       "Processing Variables:   0%|          | 0/13 [00:00<?, ?it/s]"
      ]
     },
     "metadata": {},
     "output_type": "display_data"
    },
    {
     "data": {
      "application/vnd.jupyter.widget-view+json": {
       "model_id": "cdf2da0f546a45119e499d40799ec772",
       "version_major": 2,
       "version_minor": 0
      },
      "text/plain": [
       "  0%|          | 0/13 [00:00<?, ?it/s]"
      ]
     },
     "metadata": {},
     "output_type": "display_data"
    },
    {
     "name": "stdout",
     "output_type": "stream",
     "text": [
      "No. of vars selected = 1/15\n"
     ]
    },
    {
     "data": {
      "application/vnd.jupyter.widget-view+json": {
       "model_id": "e472e2e5011c4d2884272e304360f9a1",
       "version_major": 2,
       "version_minor": 0
      },
      "text/plain": [
       "Processing Variables:   0%|          | 0/15 [00:00<?, ?it/s]"
      ]
     },
     "metadata": {},
     "output_type": "display_data"
    },
    {
     "data": {
      "application/vnd.jupyter.widget-view+json": {
       "model_id": "bcddde21c4964296a09fd8df0a0730b9",
       "version_major": 2,
       "version_minor": 0
      },
      "text/plain": [
       "  0%|          | 0/15 [00:00<?, ?it/s]"
      ]
     },
     "metadata": {},
     "output_type": "display_data"
    },
    {
     "name": "stdout",
     "output_type": "stream",
     "text": [
      "No. of vars selected = 2/15\n"
     ]
    },
    {
     "data": {
      "application/vnd.jupyter.widget-view+json": {
       "model_id": "92a5109eaad744dc9a93d600ba7d364d",
       "version_major": 2,
       "version_minor": 0
      },
      "text/plain": [
       "Processing Variables:   0%|          | 0/14 [00:00<?, ?it/s]"
      ]
     },
     "metadata": {},
     "output_type": "display_data"
    },
    {
     "data": {
      "application/vnd.jupyter.widget-view+json": {
       "model_id": "e7b9167b53f249be9a00d32d2d2c269d",
       "version_major": 2,
       "version_minor": 0
      },
      "text/plain": [
       "  0%|          | 0/14 [00:00<?, ?it/s]"
      ]
     },
     "metadata": {},
     "output_type": "display_data"
    },
    {
     "name": "stdout",
     "output_type": "stream",
     "text": [
      "No. of vars selected = 3/15\n"
     ]
    },
    {
     "data": {
      "application/vnd.jupyter.widget-view+json": {
       "model_id": "ebe65186d53e44abab3a1acf601a46e4",
       "version_major": 2,
       "version_minor": 0
      },
      "text/plain": [
       "Processing Variables:   0%|          | 0/13 [00:00<?, ?it/s]"
      ]
     },
     "metadata": {},
     "output_type": "display_data"
    },
    {
     "data": {
      "application/vnd.jupyter.widget-view+json": {
       "model_id": "2084e6e638034c05b2a3ee005e4ae2cd",
       "version_major": 2,
       "version_minor": 0
      },
      "text/plain": [
       "  0%|          | 0/13 [00:00<?, ?it/s]"
      ]
     },
     "metadata": {},
     "output_type": "display_data"
    },
    {
     "name": "stdout",
     "output_type": "stream",
     "text": [
      "No. of vars selected = 1/15\n"
     ]
    },
    {
     "data": {
      "application/vnd.jupyter.widget-view+json": {
       "model_id": "131beddeec6e483abd847c766515d82f",
       "version_major": 2,
       "version_minor": 0
      },
      "text/plain": [
       "Processing Variables:   0%|          | 0/15 [00:00<?, ?it/s]"
      ]
     },
     "metadata": {},
     "output_type": "display_data"
    },
    {
     "data": {
      "application/vnd.jupyter.widget-view+json": {
       "model_id": "c526e942725f481d8d4a4c3bb9eef84d",
       "version_major": 2,
       "version_minor": 0
      },
      "text/plain": [
       "  0%|          | 0/15 [00:00<?, ?it/s]"
      ]
     },
     "metadata": {},
     "output_type": "display_data"
    },
    {
     "name": "stdout",
     "output_type": "stream",
     "text": [
      "No. of vars selected = 2/15\n"
     ]
    },
    {
     "data": {
      "application/vnd.jupyter.widget-view+json": {
       "model_id": "fad6ebfa2d3d44478ee234d053f85561",
       "version_major": 2,
       "version_minor": 0
      },
      "text/plain": [
       "Processing Variables:   0%|          | 0/14 [00:00<?, ?it/s]"
      ]
     },
     "metadata": {},
     "output_type": "display_data"
    },
    {
     "data": {
      "application/vnd.jupyter.widget-view+json": {
       "model_id": "60781ea85e4c4da8a4887a13d3cbbcf0",
       "version_major": 2,
       "version_minor": 0
      },
      "text/plain": [
       "  0%|          | 0/14 [00:00<?, ?it/s]"
      ]
     },
     "metadata": {},
     "output_type": "display_data"
    },
    {
     "name": "stdout",
     "output_type": "stream",
     "text": [
      "No. of vars selected = 3/15\n"
     ]
    },
    {
     "data": {
      "application/vnd.jupyter.widget-view+json": {
       "model_id": "227df56fda8d49209c2e8037b13b493b",
       "version_major": 2,
       "version_minor": 0
      },
      "text/plain": [
       "Processing Variables:   0%|          | 0/13 [00:00<?, ?it/s]"
      ]
     },
     "metadata": {},
     "output_type": "display_data"
    },
    {
     "data": {
      "application/vnd.jupyter.widget-view+json": {
       "model_id": "9a3ab32580404808bfeba7ecb264e64b",
       "version_major": 2,
       "version_minor": 0
      },
      "text/plain": [
       "  0%|          | 0/13 [00:00<?, ?it/s]"
      ]
     },
     "metadata": {},
     "output_type": "display_data"
    }
   ],
   "source": [
    "# Set parameters for optimization\n",
    "transform_diagonal = np.ones(len(var_names_all))\n",
    "k = 200\n",
    "nn_algo = 'kd_tree'\n",
    "corr_length_train = 24\n",
    "loo = True\n",
    "Nperm = 20\n",
    "Nvars = 3 # maximal number of variables kept in iterated grid-search\n",
    "thresh_CRPS_gain = 0\n",
    "n_jobs_variables = 4\n",
    "n_jobs_nnsearch = -1\n",
    "\n",
    "A_grid = []\n",
    "E_grid_train = []\n",
    "E_grid_test = []\n",
    "random_state_number = []\n",
    "\n",
    "# for i_perm in tqdm(range(Nperm)):\n",
    "# for i_perm in tqdm(range(10,Nperm)):\n",
    "for i_perm in tqdm(range(13,Nperm)):\n",
    "    # Generate random permutation (reproducible)\n",
    "    random_state_number.append(1312 + i_perm)\n",
    "    rs = np.random.RandomState(random_state_number[-1])\n",
    "    perm = rs.permutation(len(files))\n",
    "    Itest = np.argwhere(np.isin(ID, perm[:len(files)//3]))[:,0]\n",
    "    Itrain = np.argwhere(np.isin(ID, perm[len(files)//3:]))[:,0]\n",
    "\n",
    "    # Optimize using grid-search\n",
    "    result_grid = grid_search_CRPS_TC(train_x, train_y, Itrain, Itest, k = k, nn_algo = nn_algo,\n",
    "                     thresh_CRPS_gain = thresh_CRPS_gain, Nvars = Nvars, corr_length_train = corr_length_train,\n",
    "                        n_jobs_variables = n_jobs_variables, n_jobs_nnsearch = n_jobs_nnsearch)\n",
    "\n",
    "    A_grid.append( result_grid[0].copy() )\n",
    "    E_grid_train.append( result_grid[1].copy() )\n",
    "    E_grid_test.append( result_grid[2].copy() )\n",
    "\n",
    "A_grid = np.array(A_grid)\n",
    "E_grid_train = np.array(E_grid_train)\n",
    "E_grid_test = np.array(E_grid_test)"
   ]
  },
  {
   "cell_type": "code",
   "execution_count": 8,
   "id": "d349f09c-4684-4587-8f0f-11fbb58ab3f2",
   "metadata": {},
   "outputs": [],
   "source": [
    "A_grid = np.array(A_grid)\n",
    "E_grid_train = np.array(E_grid_train)\n",
    "E_grid_test = np.array(E_grid_test)"
   ]
  },
  {
   "cell_type": "code",
   "execution_count": 9,
   "id": "c0283465-debe-4dfb-bbbf-1e4d9afeb5ad",
   "metadata": {},
   "outputs": [],
   "source": [
    "# Save\n",
    "np.savez(output_folder + 'select_vars_TC_grid_search_ter.npz',\n",
    "        var_y = np.array(var_y),\n",
    "        var_names_all = np.array(var_names_all),\n",
    "        A_grid = A_grid,\n",
    "        E_grid_train = E_grid_train,\n",
    "        E_grid_test = E_grid_test,\n",
    "        h = h,\n",
    "        k = k,\n",
    "        corr_length_train = corr_length_train,\n",
    "        random_state_number = random_state_number,\n",
    ")"
   ]
  },
  {
   "cell_type": "markdown",
   "id": "5a21f4c7-7b98-44a6-9201-5eb39ba16368",
   "metadata": {},
   "source": [
    "# Re-process multiple outputs (subcomputations over different permutations)"
   ]
  },
  {
   "cell_type": "code",
   "execution_count": 19,
   "id": "0f369b37-7728-456e-b6ac-397732b3421a",
   "metadata": {},
   "outputs": [],
   "source": [
    "## Load first file\n",
    "npzfile = np.load(output_folder + 'select_vars_TC_grid_search_primo.npz')\n",
    "# fixed parameters that are unchanged between different files\n",
    "var_y = npzfile['var_y']\n",
    "var_names_all = npzfile['var_names_all']\n",
    "h = npzfile['h']\n",
    "k = npzfile['k']\n",
    "corr_length_train = npzfile['corr_length_train']\n",
    "# fixed parameters that are unchanged between different files\n",
    "A_grid = npzfile['A_grid']\n",
    "E_grid_train = npzfile['E_grid_train']\n",
    "E_grid_test = npzfile['E_grid_test']\n",
    "random_state_number = npzfile['random_state_number'][:len(A_grid)]\n",
    "\n",
    "## Load other files (only parameters that change)\n",
    "for file_suffix in ['bis','ter']:\n",
    "    npzfile = np.load(output_folder + 'select_vars_TC_grid_search_' + file_suffix + '.npz')\n",
    "    # fixed parameters that are unchanged between different files\n",
    "    A_grid_new = npzfile['A_grid']\n",
    "    E_grid_train_new = npzfile['E_grid_train']\n",
    "    E_grid_test_new = npzfile['E_grid_test']\n",
    "    random_state_number_new = npzfile['random_state_number'][:len(A_grid_new)]\n",
    "    \n",
    "    A_grid = np.concatenate( ( A_grid , A_grid_new ) , axis = 0 )\n",
    "    E_grid_train = np.concatenate( ( E_grid_train , E_grid_train_new ) , axis = 0 )\n",
    "    E_grid_test = np.concatenate( ( E_grid_test , E_grid_test_new ) , axis = 0 )\n",
    "    random_state_number = np.concatenate( ( random_state_number , random_state_number_new ) , axis = 0 )"
   ]
  },
  {
   "cell_type": "code",
   "execution_count": 21,
   "id": "2d0e5b02-3754-465c-b5eb-25dd2876da1c",
   "metadata": {},
   "outputs": [],
   "source": [
    "## Save into one whole file\n",
    "np.savez(output_folder + 'select_vars_TC_grid_search.npz',\n",
    "        var_y = var_y,\n",
    "        var_names_all = var_names_all,\n",
    "        A_grid = A_grid,\n",
    "        E_grid_train = E_grid_train,\n",
    "        E_grid_test = E_grid_test,\n",
    "        h = h,\n",
    "        k = k,\n",
    "        corr_length_train = corr_length_train,\n",
    "        random_state_number = random_state_number,\n",
    ")"
   ]
  },
  {
   "cell_type": "code",
   "execution_count": null,
   "id": "e1fc36b6-53f0-4365-9cab-62f1f673a0d8",
   "metadata": {},
   "outputs": [],
   "source": []
  }
 ],
 "metadata": {
  "kernelspec": {
   "display_name": "Python 3 (ipykernel)",
   "language": "python",
   "name": "python3"
  },
  "language_info": {
   "codemirror_mode": {
    "name": "ipython",
    "version": 3
   },
   "file_extension": ".py",
   "mimetype": "text/x-python",
   "name": "python",
   "nbconvert_exporter": "python",
   "pygments_lexer": "ipython3",
   "version": "3.10.12"
  }
 },
 "nbformat": 4,
 "nbformat_minor": 5
}
